{
 "cells": [
  {
   "cell_type": "markdown",
   "id": "b5c0ef91-5d14-4dde-accd-7e93babb915e",
   "metadata": {},
   "source": [
    "# SWE Results: introductory examples\n",
    "\n",
    "In this notebook we generate all the \"introductory example\" plots for our paper _Exploring Model Misspecification in Shallow Water Equations via Statistical Finite Elements_.\n",
    "\n",
    "If you see anything of interest or have any questions, please do get in touch (cpd32 `at` cam.ac.uk)."
   ]
  },
  {
   "cell_type": "code",
   "execution_count": 1,
   "id": "9e5bacbb-0ae2-4caf-a681-bff72b2f901e",
   "metadata": {},
   "outputs": [
    {
     "name": "stdout",
     "output_type": "stream",
     "text": [
      "['#4878d0', '#ee854a', '#6acc64', '#d65f5f', '#956cb4', '#8c613c', '#dc7ec0', '#797979', '#d5bb67', '#82c6e2']\n"
     ]
    }
   ],
   "source": [
    "import h5py\n",
    "\n",
    "import numpy as np\n",
    "import matplotlib.pyplot as plt\n",
    "\n",
    "from tabulate import tabulate\n",
    "import xarray as xr\n",
    "\n",
    "import sys\n",
    "sys.path.insert(0, \"../src\")\n",
    "from swe import ShallowOne\n",
    "from figures import figure_sizes, texp\n",
    "\n",
    "import seaborn as sns\n",
    "sns.set_palette(\"muted\")\n",
    "print(sns.color_palette(\"muted\").as_hex())\n",
    "\n",
    "DPI = 1000"
   ]
  },
  {
   "cell_type": "code",
   "execution_count": 2,
   "id": "ada0f036-6af6-4c18-947b-ab28250c8e37",
   "metadata": {},
   "outputs": [
    {
     "data": {
      "image/png": "[encoded data removed]",
      "text/plain": [
       "<Figure size 362.88x180 with 8 Axes>"
      ]
     },
     "metadata": {
      "needs_background": "light"
     },
     "output_type": "display_data"
    }
   ],
   "source": [
    "# HACK(connor) to get x-coords\n",
    "swe = ShallowOne(\n",
    "    control=dict(nx=500, dt=1., theta=0.6, simulation=\"tidal_flow\"),\n",
    "    params = dict(nu=1., shore_start=2000.,\n",
    "                  shore_height=5.,\n",
    "                  bump_height=0., bump_centre=8000., bump_width=400))\n",
    "\n",
    "\n",
    "def plot_means_vars(output_files):\n",
    "    \"\"\" Read in errors from output file. \"\"\"\n",
    "    n_models = len(output_files)\n",
    "    fig, axs = plt.subplots(2, n_models,\n",
    "                            constrained_layout=True,\n",
    "                            figsize=(0.7 * figure_sizes[\"fullwidth\"], 2.5),\n",
    "                            sharey=\"row\", sharex=True)\n",
    "    \n",
    "    for col, file in enumerate(output_files):\n",
    "        checkpoint = h5py.File(file, \"r\")\n",
    "        nu = checkpoint[\"/\"].attrs[\"nu\"]\n",
    "        nt_skip = checkpoint[\"/\"].attrs[\"nt_skip\"]\n",
    "        s = checkpoint[\"/\"].attrs[\"s\"]\n",
    "        assert checkpoint[\"/\"].attrs[\"rho_h\"] == 2e-3\n",
    "\n",
    "        idx_plot = 70\n",
    "        t_plot = checkpoint[\"/t\"][idx_plot]\n",
    "        u_mean = checkpoint[\"/u_mean\"][idx_plot, :]\n",
    "        u_var = checkpoint[\"/u_var\"][idx_plot, :]\n",
    "        h_mean = checkpoint[\"/h_mean\"][idx_plot, :]\n",
    "        h_var = checkpoint[\"/h_var\"][idx_plot, :]\n",
    "        rmse_rel = np.mean(checkpoint[\"/rmse\"][:])  # average RMSE for comparison?\n",
    "        checkpoint.close()\n",
    "        \n",
    "        # get and read in data\n",
    "        dgp = xr.open_dataset(\"../data/h_shore_dgp.nc\")\n",
    "        idx_obs = np.abs(t_plot - dgp.coords[\"t\"].values[:]).argmin()\n",
    "        x_dgp = dgp.coords[\"x\"].copy() / 1000\n",
    "        u_dgp = dgp[\"u\"].values[idx_obs, :]\n",
    "        h_dgp = dgp[\"h\"].values[idx_obs, :]\n",
    "\n",
    "        dat = xr.open_dataset(\"../data/h_shore.nc\")\n",
    "        idx_obs = np.abs(t_plot - dat.coords[\"t\"].values[:]).argmin()\n",
    "        x_obs = 1.  # observed at 1km in\n",
    "        y_obs = dat[\"h\"].values[idx_obs, 50]  # dont include IC\n",
    "        t_obs = dat.coords[\"t\"].values[idx_obs]\n",
    "        np.testing.assert_allclose(t_plot, t_obs)\n",
    "\n",
    "        x_grid = swe.x_coords.copy()[:, 0]\n",
    "        x_grid = x_grid / 1000\n",
    "        axs[0, col].plot(x_grid, u_mean, label=\"Posterior\")\n",
    "        axs[0, col].fill_between(x_grid,\n",
    "                                 u_mean - 1.96 * np.sqrt(u_var), \n",
    "                                 u_mean + 1.96 * np.sqrt(u_var),\n",
    "                                 alpha=0.2)\n",
    "        axs[0, col].plot(x_dgp, u_dgp, \"--\", label=\"Truth\")\n",
    "        num = texp(f\"{nu:.1e}\", dollar_surround=False)\n",
    "        axs[0, col].set_title(fr\"$\\nu = {num}$\" + \"\\n\" + fr\"$s = {s:.0f}$\")\n",
    "        axs[0, col].set_xticks([0, 5, 10])\n",
    "    \n",
    "        axs[1, col].plot(x_grid, h_mean)\n",
    "        axs[1, col].fill_between(x_grid,\n",
    "                                 h_mean - 1.96 * np.sqrt(h_var),\n",
    "                                 h_mean + 1.96 * np.sqrt(h_var),\n",
    "                                 alpha=0.2)\n",
    "        axs[1, col].plot(x_dgp, h_dgp, \"--\")\n",
    "        axs[1, col].plot(x_obs, y_obs, \"o\", color=\"black\", markersize=3)\n",
    "        axs[1, col].set_xlabel(r\"$x$ (km)\")\n",
    "        axs[1, col].text(3, 4, f\"RMSE: {rmse_rel:.3f}\", fontsize=6)\n",
    "    \n",
    "    axs[0, 0].set_ylabel(r\"$u$ (m s$^{-1}$)\")\n",
    "    axs[1, 0].set_ylabel(r\"$\\eta$ (m)\")\n",
    "\n",
    "files = [\"../outputs/swe-tidal-sparse/nonlinear-posterior-s-2000.0-nx_obs-1-nt_skip-30-nu-5.00e+00-k-32.h5\",\n",
    "         \"../outputs/swe-tidal-sparse/nonlinear-posterior-s-2000.0-nx_obs-1-nt_skip-30-nu-1.00e+04-k-32.h5\",\n",
    "         \"../outputs/swe-tidal-sparse/nonlinear-posterior-s-3500.0-nx_obs-1-nt_skip-30-nu-5.00e+00-k-32.h5\",\n",
    "         \"../outputs/swe-tidal-sparse/nonlinear-posterior-s-3500.0-nx_obs-1-nt_skip-30-nu-1.00e+04-k-32.h5\"]\n",
    "\n",
    "plot_means_vars(files)\n",
    "plt.savefig(\"../figures/intro-example-means-vars.pdf\")  # , dpi=DPI)"
   ]
  },
  {
   "cell_type": "code",
   "execution_count": 3,
   "id": "c9625127-9658-48c1-a545-4d3ee1a65e81",
   "metadata": {},
   "outputs": [
    {
     "name": "stdout",
     "output_type": "stream",
     "text": [
      "<xarray.Dataset>\n",
      "Dimensions:   (t: 1440, s: 2, nu: 2)\n",
      "Coordinates:\n",
      "  * t         (t) float64 0.0002778 0.008611 0.01694 ... 11.98 11.98 11.99\n",
      "  * s         (s) float64 2e+03 3.5e+03\n",
      "  * nu        (nu) float64 1e+04 5.0\n",
      "Data variables:\n",
      "    rmse      (t, s, nu) float64 0.02156 0.02156 0.02156 ... 0.3045 0.05467\n",
      "    rmse_rel  (t, s, nu) float64 0.9986 0.9986 0.9986 ... 0.09497 0.01705\n"
     ]
    }
   ],
   "source": [
    "def get_errors(output_file):\n",
    "    \"\"\" Read in errors from output file. \"\"\"\n",
    "    checkpoint = h5py.File(output_file, \"r\")\n",
    "    nu = checkpoint[\"/\"].attrs[\"nu\"]\n",
    "    s = checkpoint[\"/\"].attrs[\"s\"]\n",
    "    nt_skip = checkpoint[\"/\"].attrs[\"nt_skip\"]\n",
    "    k = checkpoint[\"/\"].attrs[\"k\"]\n",
    "    linear = checkpoint[\"/\"].attrs[\"linear\"]\n",
    "    \n",
    "    # just verify we are doing the correct thing\n",
    "    t_obs = checkpoint[\"/t_obs\"][:]\n",
    "    rmse = checkpoint[\"/rmse\"][:]\n",
    "    rmse_rel = checkpoint[\"/rmse_rel\"][:]\n",
    "    \n",
    "    # common coordinates across all\n",
    "    coords=dict(t=t_obs / 3600,\n",
    "                s=np.array([s]),\n",
    "                nu=np.array([nu]))\n",
    "    \n",
    "    rmse_ds = xr.DataArray(data=rmse[:, np.newaxis, np.newaxis],\n",
    "                           coords=coords,\n",
    "                           name=\"rmse\")\n",
    "    rmse_rel_ds = xr.DataArray(data=rmse_rel[:, np.newaxis, np.newaxis],\n",
    "                               coords=coords,\n",
    "                               name=\"rmse_rel\")\n",
    "    return xr.merge([rmse_ds, rmse_rel_ds])\n",
    "\n",
    "\n",
    "errors_ds = []\n",
    "for file in files:\n",
    "    e = get_errors(file)\n",
    "    errors_ds.append(e)\n",
    "\n",
    "errors_nonlinear = xr.merge(errors_ds)\n",
    "errors_nonlinear = errors_nonlinear.reindex(nu=errors_nonlinear.nu[::-1])\n",
    "\n",
    "print(errors_nonlinear)"
   ]
  },
  {
   "cell_type": "code",
   "execution_count": 4,
   "id": "5df00d7e-55f3-478a-964d-65061358f091",
   "metadata": {},
   "outputs": [
    {
     "data": {
      "image/png": "[encoded data removed]",
      "text/plain": [
       "<Figure size 129.6x180 with 2 Axes>"
      ]
     },
     "metadata": {
      "needs_background": "light"
     },
     "output_type": "display_data"
    }
   ],
   "source": [
    "p = errors_nonlinear.rmse.plot(hue=\"nu\", row=\"s\",\n",
    "                               figsize=(0.25 * figure_sizes[\"fullwidth\"],  2.5),\n",
    "                               sharex=True, sharey=True, add_legend=False)\n",
    "# p.figlegend.set_title(r\"$\\nu$\")\n",
    "# plt.yscale(\"log\")\n",
    "\n",
    "errors_nonlinear.t\n",
    "s_all =  errors_nonlinear.coords[\"s\"].to_numpy()\n",
    "labels = [\n",
    "    fr\"$s = {texp(f'{s:.1f}', False)}$\" if s > 0 else \"Linear\" for s in s_all\n",
    "]\n",
    "\n",
    "for label, ax in zip(labels, p.axes.flat):\n",
    "    ax.set_title(label)\n",
    "    ax.set_ylabel(\"RMSE\")\n",
    "\n",
    "p.axes.flat[-1].set_xlabel(r\"$t$ (h)\")\n",
    "plt.xticks([0, 6, 12])\n",
    "plt.savefig(\"../figures/intro-example-rmse.pdf\")  #, dpi=DPI)"
   ]
  },
  {
   "cell_type": "code",
   "execution_count": null,
   "id": "3e506d58-2b70-41c2-bc88-086d194c8ff0",
   "metadata": {},
   "outputs": [],
   "source": []
  }
 ],
 "metadata": {
  "kernelspec": {
   "display_name": "Python 3 (ipykernel)",
   "language": "python",
   "name": "python3"
  },
  "language_info": {
   "codemirror_mode": {
    "name": "ipython",
    "version": 3
   },
   "file_extension": ".py",
   "mimetype": "text/x-python",
   "name": "python",
   "nbconvert_exporter": "python",
   "pygments_lexer": "ipython3",
   "version": "3.10.5"
  }
 },
 "nbformat": 4,
 "nbformat_minor": 5
}
